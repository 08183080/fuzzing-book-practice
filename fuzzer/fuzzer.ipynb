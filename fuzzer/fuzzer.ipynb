{
 "cells": [
  {
   "cell_type": "markdown",
   "metadata": {},
   "source": [
    "# A Simple Fuzzer"
   ]
  },
  {
   "cell_type": "code",
   "execution_count": 57,
   "metadata": {},
   "outputs": [],
   "source": [
    "from typing import Dict, List, Tuple, Union, Any"
   ]
  },
  {
   "cell_type": "code",
   "execution_count": 52,
   "metadata": {},
   "outputs": [],
   "source": [
    "import random"
   ]
  },
  {
   "cell_type": "code",
   "execution_count": 53,
   "metadata": {},
   "outputs": [],
   "source": [
    "def fuzzer(max_length: int = 100, char_start: int = 32, char_range: int = 32) -> str:\n",
    "    '''\n",
    "    A string of up to max_length characters\n",
    "    int the range [char_start, char_start + char_range) \n",
    "    '''\n",
    "    str_len = random.randrange(0, max_length + 1)\n",
    "    out = ''\n",
    "    for i in range(0, str_len):\n",
    "        out += chr(random.randrange(char_start, char_start + char_range))\n",
    "    return out"
   ]
  },
  {
   "cell_type": "code",
   "execution_count": 54,
   "metadata": {},
   "outputs": [
    {
     "data": {
      "text/plain": [
       "'1+#</+ >\"\"-$#)5\\'/)$ 9&35&6?1'"
      ]
     },
     "execution_count": 54,
     "metadata": {},
     "output_type": "execute_result"
    }
   ],
   "source": [
    "fuzzer()"
   ]
  },
  {
   "cell_type": "code",
   "execution_count": 55,
   "metadata": {},
   "outputs": [
    {
     "data": {
      "text/plain": [
       "'xuwohcfunwmvzgahpegivwryaghavqptyqpavqgxyzmihaoyvyyjtqulaldrpgtttbqkscgrjsxcyzocizlqvahhqjrmwudiyjlogfbqihtpmeuqlgxlrjkrsbqnhfrpkohyqxztosovkpmtqgamgwnkivxasmdphehjpxgcpcodtrmbxtwtzzecgkdllkwxapiadwowssiotifiqzytuqxkiuwuqrdzrtqkpdpdggsddrfuadigcyisfpffhqidguhrgovmxdbnlsmzoevinoytmvzdughugkstaaeudynlxewrchkctorwnjrsutvcqokqdamnzgmnmyoblliutjhigzwotlmtnhqdstuorkrtdrozdlzspykughkprrrjmvvmgbrxmfmwkbearjogkzgelgosnonqoefyiqlkwaybknzewhwzuxqzojmjazxhhkiiysomxaynqeblxjdledfaxffmpxdlcknhypqbfrpzqmxseiqpjakmavhumcrxvhbzmeuutbxeyqyzraipjtvxofkhgxbimvdvtyscopuanoutkwwgnzqexabckklscbfmowqazpxgfxledtflncexvcwopggswyvnqbbzdlrhphyxzupbxhjwjwy'"
      ]
     },
     "execution_count": 55,
     "metadata": {},
     "output_type": "execute_result"
    }
   ],
   "source": [
    "fuzzer(1000, ord('a'), 26)  # produce massive a~z data string"
   ]
  },
  {
   "cell_type": "code",
   "execution_count": 60,
   "metadata": {},
   "outputs": [
    {
     "data": {
      "text/plain": [
       "'622201427167862456189066761579192143889562702599405693662225688163355487710556490727748873145676573951098158581119265'"
      ]
     },
     "execution_count": 60,
     "metadata": {},
     "output_type": "execute_result"
    }
   ],
   "source": [
    "fuzzer(200, ord('0'), 10)"
   ]
  },
  {
   "cell_type": "markdown",
   "metadata": {},
   "source": [
    "# Fuzzing External Programs"
   ]
  },
  {
   "cell_type": "markdown",
   "metadata": {},
   "source": [
    "## Creating Input Files"
   ]
  },
  {
   "cell_type": "code",
   "execution_count": 61,
   "metadata": {},
   "outputs": [],
   "source": [
    "import os\n",
    "import tempfile"
   ]
  },
  {
   "cell_type": "code",
   "execution_count": 62,
   "metadata": {},
   "outputs": [
    {
     "name": "stdout",
     "output_type": "stream",
     "text": [
      "C:\\Users\\hxie\\AppData\\Local\\Temp\\tmpad8upzjf\\input.txt\n"
     ]
    }
   ],
   "source": [
    "basename = 'input.txt'\n",
    "tempdir = tempfile.mkdtemp()\n",
    "FILE = os.path.join(tempdir, basename)\n",
    "print(FILE)"
   ]
  },
  {
   "cell_type": "code",
   "execution_count": 64,
   "metadata": {},
   "outputs": [],
   "source": [
    "data = fuzzer()\n",
    "with open(FILE, 'w') as f:\n",
    "    f.write(data)"
   ]
  },
  {
   "cell_type": "code",
   "execution_count": 66,
   "metadata": {},
   "outputs": [
    {
     "name": "stdout",
     "output_type": "stream",
     "text": [
      "0!9)=\"=:/02=\n"
     ]
    }
   ],
   "source": [
    "contents = open(FILE).read()\n",
    "print(contents)\n",
    "assert(contents == data)"
   ]
  },
  {
   "cell_type": "markdown",
   "metadata": {},
   "source": [
    "## Invoking External Programs"
   ]
  },
  {
   "cell_type": "code",
   "execution_count": 68,
   "metadata": {},
   "outputs": [],
   "source": [
    "import os\n",
    "import subprocess"
   ]
  },
  {
   "cell_type": "markdown",
   "metadata": {},
   "source": [
    "bc is a math command in Unix"
   ]
  },
  {
   "cell_type": "code",
   "execution_count": 73,
   "metadata": {},
   "outputs": [
    {
     "name": "stdout",
     "output_type": "stream",
     "text": [
      "CompletedProcess(args=['C:\\\\Windows\\\\System32\\\\calc.exe', 'C:\\\\Users\\\\hxie\\\\AppData\\\\Local\\\\Temp\\\\tmpad8upzjf\\\\input.txt'], returncode=0, stdout='', stderr='')\n"
     ]
    }
   ],
   "source": [
    "program = 'C:\\\\Windows\\\\System32\\\\calc.exe'\n",
    "with open(FILE, 'w') as f:\n",
    "    f.write('2 + 2\\n')\n",
    "result = subprocess.run([program, FILE],\n",
    "                        stdin=subprocess.DEVNULL,\n",
    "                        stdout=subprocess.PIPE,\n",
    "                        stderr=subprocess.PIPE,\n",
    "                        universal_newlines=True)\n",
    "print(result)"
   ]
  },
  {
   "cell_type": "code",
   "execution_count": 74,
   "metadata": {},
   "outputs": [
    {
     "data": {
      "text/plain": [
       "''"
      ]
     },
     "execution_count": 74,
     "metadata": {},
     "output_type": "execute_result"
    }
   ],
   "source": [
    "result.stdout"
   ]
  },
  {
   "cell_type": "code",
   "execution_count": 75,
   "metadata": {},
   "outputs": [
    {
     "data": {
      "text/plain": [
       "''"
      ]
     },
     "execution_count": 75,
     "metadata": {},
     "output_type": "execute_result"
    }
   ],
   "source": [
    "result.stderr"
   ]
  },
  {
   "cell_type": "code",
   "execution_count": 76,
   "metadata": {},
   "outputs": [
    {
     "data": {
      "text/plain": [
       "0"
      ]
     },
     "execution_count": 76,
     "metadata": {},
     "output_type": "execute_result"
    }
   ],
   "source": [
    "result.returncode"
   ]
  },
  {
   "cell_type": "markdown",
   "metadata": {},
   "source": [
    "# A Fuzzing Architecture"
   ]
  },
  {
   "cell_type": "markdown",
   "metadata": {},
   "source": [
    "## Runner Classes"
   ]
  },
  {
   "cell_type": "code",
   "execution_count": 81,
   "metadata": {},
   "outputs": [],
   "source": [
    "class Runner:\n",
    "    '''\n",
    "    Base class for testing inputs\n",
    "    '''\n",
    "    PASS = 'PASS'\n",
    "    FAIL = 'FAIL'\n",
    "    UNRESOLVED = 'UNRESOLVED'\n",
    "\n",
    "    def __init__(self) -> None:\n",
    "        pass\n",
    "        \n",
    "    def run(self, inp: str) -> Any:\n",
    "        return(inp, Runner.UNRESOLVED)"
   ]
  },
  {
   "cell_type": "code",
   "execution_count": 82,
   "metadata": {},
   "outputs": [],
   "source": [
    "class PrintRunner(Runner):\n",
    "    def run(self, inp) -> Any:\n",
    "        print(inp)\n",
    "        return(inp, Runner.UNRESOLVED)"
   ]
  },
  {
   "cell_type": "code",
   "execution_count": 83,
   "metadata": {},
   "outputs": [
    {
     "name": "stdout",
     "output_type": "stream",
     "text": [
      "Some input\n"
     ]
    }
   ],
   "source": [
    "p = PrintRunner()\n",
    "(result, outcome) = p.run('Some input')"
   ]
  },
  {
   "cell_type": "code",
   "execution_count": 84,
   "metadata": {},
   "outputs": [
    {
     "data": {
      "text/plain": [
       "'Some input'"
      ]
     },
     "execution_count": 84,
     "metadata": {},
     "output_type": "execute_result"
    }
   ],
   "source": [
    "result"
   ]
  },
  {
   "cell_type": "code",
   "execution_count": 85,
   "metadata": {},
   "outputs": [
    {
     "data": {
      "text/plain": [
       "'UNRESOLVED'"
      ]
     },
     "execution_count": 85,
     "metadata": {},
     "output_type": "execute_result"
    }
   ],
   "source": [
    "outcome"
   ]
  },
  {
   "cell_type": "markdown",
   "metadata": {},
   "source": [
    "## Fuzzer Classes"
   ]
  },
  {
   "cell_type": "code",
   "execution_count": 89,
   "metadata": {},
   "outputs": [],
   "source": [
    "Outcome = str"
   ]
  },
  {
   "cell_type": "code",
   "execution_count": 92,
   "metadata": {},
   "outputs": [],
   "source": [
    "class Fuzzer:\n",
    "    '''Base class for fuzzers'''\n",
    "    def __init__(self) -> None:\n",
    "        pass\n",
    "\n",
    "    def fuzz(self) -> str:\n",
    "        return ''\n",
    "    \n",
    "    def run(self, runner: Runner = Runner()) \\\n",
    "        -> Tuple[subprocess.CompletedProcess, Outcome]:\n",
    "        return runner.run(self.fuzz())\n",
    "    \n",
    "    def runs(self, runner: Runner = PrintRunner(), trails: int = 10) \\\n",
    "        -> List[Tuple[subprocess.CompletedProcess, Outcome]]:\n",
    "        return [self.run(runner) for i in range(trails)]"
   ]
  },
  {
   "cell_type": "code",
   "execution_count": 93,
   "metadata": {},
   "outputs": [],
   "source": [
    "class RandomFuzzer(Fuzzer):\n",
    "    \"\"\"Produce random inputs.\"\"\"\n",
    "\n",
    "    def __init__(self, min_length: int = 10, max_length: int = 100,\n",
    "                 char_start: int = 32, char_range: int = 32) -> None:\n",
    "        \"\"\"Produce strings of `min_length` to `max_length` characters\n",
    "           in the range [`char_start`, `char_start` + `char_range`)\"\"\"\n",
    "        self.min_length = min_length\n",
    "        self.max_length = max_length\n",
    "        self.char_start = char_start\n",
    "        self.char_range = char_range\n",
    "\n",
    "    def fuzz(self) -> str:\n",
    "        string_length = random.randrange(self.min_length, self.max_length + 1)\n",
    "        out = \"\"\n",
    "        for i in range(0, string_length):\n",
    "            out += chr(random.randrange(self.char_start,\n",
    "                                        self.char_start + self.char_range))\n",
    "        return out"
   ]
  },
  {
   "cell_type": "code",
   "execution_count": 94,
   "metadata": {},
   "outputs": [
    {
     "name": "stdout",
     "output_type": "stream",
     "text": [
      "5&2&3: 5!(!19#..10*6\n",
      "6<*8?5+8'40(1;: ?=5<\n",
      "+)>4<\"'(2/293&7:9)0?\n",
      "8-/!3&*580**82,!%6%;\n",
      "68 <,\".('%;<32\"39/</\n",
      "7/(?52=&:%16'&(=,;&%\n",
      "\"9:;+34&70'#*%84<::1\n",
      "+;5>!*3>6<31-.%&'-/)\n",
      ":1=9)8830\"$- 39$*7(.\n",
      "*;3*63?,67869#5:2,#7\n"
     ]
    }
   ],
   "source": [
    "random_fuzzer = RandomFuzzer(min_length=20, max_length=20)\n",
    "for i in range(10):\n",
    "    print(random_fuzzer.fuzz())"
   ]
  }
 ],
 "metadata": {
  "kernelspec": {
   "display_name": "Python 3",
   "language": "python",
   "name": "python3"
  },
  "language_info": {
   "codemirror_mode": {
    "name": "ipython",
    "version": 3
   },
   "file_extension": ".py",
   "mimetype": "text/x-python",
   "name": "python",
   "nbconvert_exporter": "python",
   "pygments_lexer": "ipython3",
   "version": "3.12.3"
  }
 },
 "nbformat": 4,
 "nbformat_minor": 2
}
