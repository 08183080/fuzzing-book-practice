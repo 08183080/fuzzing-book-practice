{
 "cells": [
  {
   "cell_type": "markdown",
   "metadata": {},
   "source": [
    "# A Simple Fuzzer"
   ]
  },
  {
   "cell_type": "code",
   "execution_count": 1,
   "metadata": {},
   "outputs": [],
   "source": [
    "from typing import Dict, List, Tuple, Union, Any"
   ]
  },
  {
   "cell_type": "code",
   "execution_count": 2,
   "metadata": {},
   "outputs": [],
   "source": [
    "import random"
   ]
  },
  {
   "cell_type": "code",
   "execution_count": 3,
   "metadata": {},
   "outputs": [],
   "source": [
    "def fuzzer(max_length: int = 100, char_start: int = 32, char_range: int = 32) -> str:\n",
    "    '''\n",
    "    A string of up to max_length characters\n",
    "    int the range [char_start, char_start + char_range) \n",
    "    '''\n",
    "    str_len = random.randrange(0, max_length + 1)\n",
    "    out = ''\n",
    "    for i in range(0, str_len):\n",
    "        out += chr(random.randrange(char_start, char_start + char_range))\n",
    "    return out"
   ]
  },
  {
   "cell_type": "code",
   "execution_count": 4,
   "metadata": {},
   "outputs": [
    {
     "data": {
      "text/plain": [
       "'?'"
      ]
     },
     "execution_count": 4,
     "metadata": {},
     "output_type": "execute_result"
    }
   ],
   "source": [
    "fuzzer()"
   ]
  },
  {
   "cell_type": "code",
   "execution_count": 5,
   "metadata": {},
   "outputs": [
    {
     "data": {
      "text/plain": [
       "'eymosxexnqqhrwedpppuqdegemehrzfqhngxpuipgtwknlegvhmcdlhahrhsbrsnpendpwpkfvzprshgsevhzeiarswcrijyczjympjcebeydvwpkqhhuegzsssbfzgqdddofnlvlfeaxnfbteloffytxofpbvxfpmfkjlhhhghkuakndqqlgoagsnocxzfbepjqrnteztjkytmnodjxyrwolhlecessudicdzvaqppnbxixploihkyfrcrrwbvcbkffmiithetbftwfotzzzhpqigdptqbceyflwbebhnyadlahspxitepzbjylvgdgdqjsxarlotanvmojcxzrwdrlsodyukjcwpkfpfbytbgwykvlgjvkquzsedvbnlwchzrxrgsztzxjsgzknstjtufocabimcihikuoyqqkjafvfndddhcmgzkeklfkgjcwjmfbpdtvacdrwsvbhsvbyrfjoiggl'"
      ]
     },
     "execution_count": 5,
     "metadata": {},
     "output_type": "execute_result"
    }
   ],
   "source": [
    "fuzzer(1000, ord('a'), 26)  # produce massive a~z data string"
   ]
  },
  {
   "cell_type": "code",
   "execution_count": 6,
   "metadata": {},
   "outputs": [
    {
     "data": {
      "text/plain": [
       "'9414389087412708858022202689350160341146482154392850960165449466712763037787542972336424404567067708228136751221209530060392805546464308111815'"
      ]
     },
     "execution_count": 6,
     "metadata": {},
     "output_type": "execute_result"
    }
   ],
   "source": [
    "fuzzer(200, ord('0'), 10)"
   ]
  },
  {
   "cell_type": "markdown",
   "metadata": {},
   "source": [
    "# Fuzzing External Programs"
   ]
  },
  {
   "cell_type": "markdown",
   "metadata": {},
   "source": [
    "## Creating Input Files"
   ]
  },
  {
   "cell_type": "code",
   "execution_count": 7,
   "metadata": {},
   "outputs": [],
   "source": [
    "import os\n",
    "import tempfile"
   ]
  },
  {
   "cell_type": "code",
   "execution_count": 8,
   "metadata": {},
   "outputs": [
    {
     "name": "stdout",
     "output_type": "stream",
     "text": [
      "C:\\Users\\hxie\\AppData\\Local\\Temp\\tmpqx_kdn6s\\input.txt\n"
     ]
    }
   ],
   "source": [
    "basename = 'input.txt'\n",
    "tempdir = tempfile.mkdtemp()\n",
    "FILE = os.path.join(tempdir, basename)\n",
    "print(FILE)"
   ]
  },
  {
   "cell_type": "code",
   "execution_count": 9,
   "metadata": {},
   "outputs": [],
   "source": [
    "data = fuzzer()\n",
    "with open(FILE, 'w') as f:\n",
    "    f.write(data)"
   ]
  },
  {
   "cell_type": "code",
   "execution_count": 10,
   "metadata": {},
   "outputs": [
    {
     "name": "stdout",
     "output_type": "stream",
     "text": [
      "*+-2%#!=3%);<??'-,*!((%+\"706\"4/!3?0\"> ;($ ,1%5,,16-;%5';:5 ,\"2<?'6>7&8'/&6=2((-=\n"
     ]
    }
   ],
   "source": [
    "contents = open(FILE).read()\n",
    "print(contents)\n",
    "assert(contents == data)"
   ]
  },
  {
   "cell_type": "markdown",
   "metadata": {},
   "source": [
    "## Invoking External Programs"
   ]
  },
  {
   "cell_type": "code",
   "execution_count": 11,
   "metadata": {},
   "outputs": [],
   "source": [
    "import os\n",
    "import subprocess"
   ]
  },
  {
   "cell_type": "markdown",
   "metadata": {},
   "source": [
    "bc is a math command in Unix"
   ]
  },
  {
   "cell_type": "code",
   "execution_count": 13,
   "metadata": {},
   "outputs": [
    {
     "name": "stdout",
     "output_type": "stream",
     "text": [
      "CompletedProcess(args=['C:\\\\Windows\\\\System32\\\\calc.exe', 'C:\\\\Users\\\\hxie\\\\AppData\\\\Local\\\\Temp\\\\tmprtb2bv2v\\\\input.txt'], returncode=0, stdout='', stderr='')\n"
     ]
    }
   ],
   "source": [
    "program = 'C:\\\\Windows\\\\System32\\\\calc.exe'\n",
    "with open(FILE, 'w') as f:\n",
    "    f.write('2 + 2\\n')\n",
    "result = subprocess.run([program, FILE],\n",
    "                        stdin=subprocess.DEVNULL,\n",
    "                        stdout=subprocess.PIPE,\n",
    "                        stderr=subprocess.PIPE,\n",
    "                        universal_newlines=True)\n",
    "print(result)"
   ]
  },
  {
   "cell_type": "code",
   "execution_count": 14,
   "metadata": {},
   "outputs": [
    {
     "data": {
      "text/plain": [
       "''"
      ]
     },
     "execution_count": 14,
     "metadata": {},
     "output_type": "execute_result"
    }
   ],
   "source": [
    "result.stdout"
   ]
  },
  {
   "cell_type": "code",
   "execution_count": 15,
   "metadata": {},
   "outputs": [
    {
     "data": {
      "text/plain": [
       "''"
      ]
     },
     "execution_count": 15,
     "metadata": {},
     "output_type": "execute_result"
    }
   ],
   "source": [
    "result.stderr"
   ]
  },
  {
   "cell_type": "code",
   "execution_count": 16,
   "metadata": {},
   "outputs": [
    {
     "data": {
      "text/plain": [
       "0"
      ]
     },
     "execution_count": 16,
     "metadata": {},
     "output_type": "execute_result"
    }
   ],
   "source": [
    "result.returncode"
   ]
  },
  {
   "cell_type": "markdown",
   "metadata": {},
   "source": [
    "# A Fuzzing Architecture"
   ]
  },
  {
   "cell_type": "markdown",
   "metadata": {},
   "source": [
    "## Runner Classes"
   ]
  },
  {
   "cell_type": "code",
   "execution_count": 12,
   "metadata": {},
   "outputs": [],
   "source": [
    "class Runner:\n",
    "    '''\n",
    "    Base class for testing inputs\n",
    "    '''\n",
    "    PASS = 'PASS'\n",
    "    FAIL = 'FAIL'\n",
    "    UNRESOLVED = 'UNRESOLVED'\n",
    "\n",
    "    def __init__(self) -> None:\n",
    "        pass\n",
    "        \n",
    "    def run(self, inp: str) -> Any:\n",
    "        return(inp, Runner.UNRESOLVED)"
   ]
  },
  {
   "cell_type": "code",
   "execution_count": 13,
   "metadata": {},
   "outputs": [],
   "source": [
    "class PrintRunner(Runner):\n",
    "    def run(self, inp) -> Any:\n",
    "        print(inp)\n",
    "        return(inp, Runner.UNRESOLVED)"
   ]
  },
  {
   "cell_type": "code",
   "execution_count": 14,
   "metadata": {},
   "outputs": [
    {
     "name": "stdout",
     "output_type": "stream",
     "text": [
      "Some input\n"
     ]
    }
   ],
   "source": [
    "p = PrintRunner()\n",
    "(result, outcome) = p.run('Some input')"
   ]
  },
  {
   "cell_type": "code",
   "execution_count": 15,
   "metadata": {},
   "outputs": [
    {
     "data": {
      "text/plain": [
       "'Some input'"
      ]
     },
     "execution_count": 15,
     "metadata": {},
     "output_type": "execute_result"
    }
   ],
   "source": [
    "result"
   ]
  },
  {
   "cell_type": "code",
   "execution_count": 16,
   "metadata": {},
   "outputs": [
    {
     "data": {
      "text/plain": [
       "'UNRESOLVED'"
      ]
     },
     "execution_count": 16,
     "metadata": {},
     "output_type": "execute_result"
    }
   ],
   "source": [
    "outcome"
   ]
  },
  {
   "cell_type": "markdown",
   "metadata": {},
   "source": [
    "## Fuzzer Classes"
   ]
  },
  {
   "cell_type": "code",
   "execution_count": 17,
   "metadata": {},
   "outputs": [],
   "source": [
    "Outcome = str"
   ]
  },
  {
   "cell_type": "code",
   "execution_count": 18,
   "metadata": {},
   "outputs": [],
   "source": [
    "class Fuzzer:\n",
    "    '''Base class for fuzzers'''\n",
    "    def __init__(self) -> None:\n",
    "        pass\n",
    "\n",
    "    def fuzz(self) -> str:\n",
    "        return ''\n",
    "    \n",
    "    def run(self, runner: Runner = Runner()) \\\n",
    "        -> Tuple[subprocess.CompletedProcess, Outcome]:\n",
    "        return runner.run(self.fuzz())\n",
    "    \n",
    "    def runs(self, runner: Runner = PrintRunner(), trails: int = 10) \\\n",
    "        -> List[Tuple[subprocess.CompletedProcess, Outcome]]:\n",
    "        return [self.run(runner) for i in range(trails)]"
   ]
  },
  {
   "cell_type": "code",
   "execution_count": 20,
   "metadata": {},
   "outputs": [],
   "source": [
    "class RandomFuzzer(Fuzzer):\n",
    "    \"\"\"Produce random inputs.\"\"\"\n",
    "\n",
    "    def __init__(self, min_length: int = 10, max_length: int = 100,\n",
    "                 char_start: int = 32, char_range: int = 32) -> None:\n",
    "        \"\"\"Produce strings of `min_length` to `max_length` characters\n",
    "           in the range [`char_start`, `char_start` + `char_range`)\"\"\"\n",
    "        self.min_length = min_length\n",
    "        self.max_length = max_length\n",
    "        self.char_start = char_start\n",
    "        self.char_range = char_range\n",
    "\n",
    "    def fuzz(self) -> str:\n",
    "        string_length = random.randrange(self.min_length, self.max_length + 1)\n",
    "        out = \"\"\n",
    "        for i in range(0, string_length):\n",
    "            out += chr(random.randrange(self.char_start,\n",
    "                                        self.char_start + self.char_range))\n",
    "        return out"
   ]
  },
  {
   "cell_type": "code",
   "execution_count": 21,
   "metadata": {},
   "outputs": [
    {
     "name": "stdout",
     "output_type": "stream",
     "text": [
      "+'.\"&-'(%15<2$ >1=6%\n",
      "617+../*7(!.:>7399>7\n",
      ")4\"6'<'7-&/8-$.0<1<8\n",
      "6&1+*/34).0\"#!76<1%9\n",
      ">4=4%-0/.58(62-;,%%#\n",
      " .$'*1*>.7)'/+ >101:\n",
      ")>07+(!(7.43&,31(+%+\n",
      "*7<9\"& :>#;97%'!/9()\n",
      "44-0)''8#>7=#-#(5?1\"\n",
      "!$3:!2/(.9'6/, =70>8\n"
     ]
    }
   ],
   "source": [
    "random_fuzzer = RandomFuzzer(min_length=20, max_length=20)\n",
    "for i in range(10):\n",
    "    print(random_fuzzer.fuzz())"
   ]
  }
 ],
 "metadata": {
  "kernelspec": {
   "display_name": "Python 3",
   "language": "python",
   "name": "python3"
  },
  "language_info": {
   "codemirror_mode": {
    "name": "ipython",
    "version": 3
   },
   "file_extension": ".py",
   "mimetype": "text/x-python",
   "name": "python",
   "nbconvert_exporter": "python",
   "pygments_lexer": "ipython3",
   "version": "3.12.3"
  }
 },
 "nbformat": 4,
 "nbformat_minor": 2
}
