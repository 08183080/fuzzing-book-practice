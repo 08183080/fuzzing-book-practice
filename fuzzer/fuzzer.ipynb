{
 "cells": [
  {
   "cell_type": "markdown",
   "metadata": {},
   "source": [
    "# A Simple Fuzzer"
   ]
  },
  {
   "cell_type": "code",
   "execution_count": 52,
   "metadata": {},
   "outputs": [],
   "source": [
    "import random"
   ]
  },
  {
   "cell_type": "code",
   "execution_count": 53,
   "metadata": {},
   "outputs": [],
   "source": [
    "def fuzzer(max_length: int = 100, char_start: int = 32, char_range: int = 32) -> str:\n",
    "    '''\n",
    "    A string of up to max_length characters\n",
    "    int the range [char_start, char_start + char_range) \n",
    "    '''\n",
    "    str_len = random.randrange(0, max_length + 1)\n",
    "    out = ''\n",
    "    for i in range(0, str_len):\n",
    "        out += chr(random.randrange(char_start, char_start + char_range))\n",
    "    return out"
   ]
  },
  {
   "cell_type": "code",
   "execution_count": 54,
   "metadata": {},
   "outputs": [
    {
     "data": {
      "text/plain": [
       "'1+#</+ >\"\"-$#)5\\'/)$ 9&35&6?1'"
      ]
     },
     "execution_count": 54,
     "metadata": {},
     "output_type": "execute_result"
    }
   ],
   "source": [
    "fuzzer()"
   ]
  },
  {
   "cell_type": "code",
   "execution_count": 55,
   "metadata": {},
   "outputs": [
    {
     "data": {
      "text/plain": [
       "'xuwohcfunwmvzgahpegivwryaghavqptyqpavqgxyzmihaoyvyyjtqulaldrpgtttbqkscgrjsxcyzocizlqvahhqjrmwudiyjlogfbqihtpmeuqlgxlrjkrsbqnhfrpkohyqxztosovkpmtqgamgwnkivxasmdphehjpxgcpcodtrmbxtwtzzecgkdllkwxapiadwowssiotifiqzytuqxkiuwuqrdzrtqkpdpdggsddrfuadigcyisfpffhqidguhrgovmxdbnlsmzoevinoytmvzdughugkstaaeudynlxewrchkctorwnjrsutvcqokqdamnzgmnmyoblliutjhigzwotlmtnhqdstuorkrtdrozdlzspykughkprrrjmvvmgbrxmfmwkbearjogkzgelgosnonqoefyiqlkwaybknzewhwzuxqzojmjazxhhkiiysomxaynqeblxjdledfaxffmpxdlcknhypqbfrpzqmxseiqpjakmavhumcrxvhbzmeuutbxeyqyzraipjtvxofkhgxbimvdvtyscopuanoutkwwgnzqexabckklscbfmowqazpxgfxledtflncexvcwopggswyvnqbbzdlrhphyxzupbxhjwjwy'"
      ]
     },
     "execution_count": 55,
     "metadata": {},
     "output_type": "execute_result"
    }
   ],
   "source": [
    "fuzzer(1000, ord('a'), 26)  # produce massive a~z data string"
   ]
  },
  {
   "cell_type": "code",
   "execution_count": 56,
   "metadata": {},
   "outputs": [
    {
     "data": {
      "text/plain": [
       "'5834440497530747807800062481110429199208337416594315682407042761767695947684569992688690868261522710316834818494503406233013271482688458442063738782627576352122575519308426726024121671645'"
      ]
     },
     "execution_count": 56,
     "metadata": {},
     "output_type": "execute_result"
    }
   ],
   "source": [
    "fuzzer(200, ord('0'), 10)"
   ]
  },
  {
   "cell_type": "code",
   "execution_count": null,
   "metadata": {},
   "outputs": [],
   "source": []
  }
 ],
 "metadata": {
  "kernelspec": {
   "display_name": "Python 3",
   "language": "python",
   "name": "python3"
  },
  "language_info": {
   "codemirror_mode": {
    "name": "ipython",
    "version": 3
   },
   "file_extension": ".py",
   "mimetype": "text/x-python",
   "name": "python",
   "nbconvert_exporter": "python",
   "pygments_lexer": "ipython3",
   "version": "3.12.3"
  }
 },
 "nbformat": 4,
 "nbformat_minor": 2
}
